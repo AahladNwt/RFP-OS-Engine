{
 "cells": [
  {
   "cell_type": "code",
   "execution_count": null,
   "metadata": {},
   "outputs": [],
   "source": [
    "import sys\n",
    "import utils\n",
    "sys.path.append(\"..\")\n",
    "import streamlit as st\n",
    "import pandas as pd\n",
    "import numpy as np\n",
    "import seaborn as sns\n",
    "import matplotlib.pyplot as plt\n",
    "import tabulate as tb\n",
    "import markdown as md\n",
    "import os"
   ]
  },
  {
   "cell_type": "code",
   "execution_count": null,
   "metadata": {},
   "outputs": [],
   "source": [
    "path = \"RFP DATA CENTER.doc-1.pdf\"\n",
    "company_path = \"Vendor Info\"\n",
    "information_list  =  [requirements_qa, scope_qa, evaluation_criteria_qa, expected_rfp_response_qa]\n",
    "document = parse_docs(path)\n",
    "chatbot = ChatBotManager()\n",
    "qa = chatbot.load_db(embeddings_model, document)\n"
   ]
  },
  {
   "cell_type": "code",
   "execution_count": null,
   "metadata": {},
   "outputs": [],
   "source": [
    "print(\"Comprehensive Inquiry for Extracting RFP Details: Requirements, Scope, Objectives, Evaluation Criteria and Expected RFP response.\")\n",
    "result_dict = chatbot.parallel_process_inputs(information_list, qa)\n",
    "# print(result_dict['requirement'])\n",
    "print(\"Comprehensive Company Information Extraction\")\n",
    "company_docs = load_vendor_contractors_info(company_path)\n",
    "company_qa = chatbot.load_db(embeddings_model, company_docs)\n",
    "company_profile = chatbot.parallel_process_inputs(company_profile_qa, company_qa)"
   ]
  },
  {
   "cell_type": "code",
   "execution_count": null,
   "metadata": {},
   "outputs": [],
   "source": [
    "proposal_intro = ProposalIntoduction(result_dict['expected_rfp_response'], result_dict['requirement'], result_dict['scope'], company_profile)\n",
    "# proposal_intro = ProposalIntoduction(expected_rfp_response, project_requirements, summary_scope, company_profile)\n",
    "\n"
   ]
  },
  {
   "cell_type": "code",
   "execution_count": null,
   "metadata": {},
   "outputs": [],
   "source": [
    "intro = proposal_intro.summary_intro()\n",
    "proposal_strings = [string for string in intro['expected_response'] if \"Proposal\" in string]\n",
    "if len(proposal_strings) != 0:\n",
    "    intro['expected_response'] = proposal_strings\n",
    "\n"
   ]
  },
  {
   "cell_type": "code",
   "execution_count": null,
   "metadata": {},
   "outputs": [],
   "source": [
    "print('Extracting partners')\n",
    "website = 'https://newwave.io/'\n",
    "urls,domain =  get_links(website)\n",
    "company = CompanyProfile()\n",
    "selenium_qa = company.company_qa(urls)\n",
    "domain = 'newwave'\n",
    "query =  f\"Extract all the patners of {domain} and return your output as a python list.\"\n",
    "partners = company.extract_info(selenium_qa, query)\n",
    "print('End....')\n"
   ]
  },
  {
   "cell_type": "code",
   "execution_count": null,
   "metadata": {},
   "outputs": [],
   "source": [
    "write_intoduction = proposal_intro.write_intro(*intro.values())\n",
    "print(\"### Introduction\")\n",
    "print(write_intoduction)\n",
    "print(proposal_intro.intro_table())\n",
    "print(proposal_intro.sign_table())\n",
    "\n"
   ]
  },
  {
   "cell_type": "code",
   "execution_count": null,
   "metadata": {},
   "outputs": [],
   "source": [
    "print(\"Organizational Background and Experience\")\n",
    "background_experience = proposal_intro.organization_background_experience_chain(summary_requirements)\n",
    "print(\"Organizational Background\")\n",
    "print(background_experience['organization_background'])\n",
    "print(\"Organizational Experience\")\n",
    "print(background_experience['organization_experience'])\n",
    "\n",
    "\n"
   ]
  },
  {
   "cell_type": "code",
   "execution_count": null,
   "metadata": {},
   "outputs": [],
   "source": [
    "solution_engine = SolutionEngine(summary_requirements, project_requirements, company_profile)\n",
    "sections = solution_engine.extraction_qa(comment_suggestion_qa, qa)\n",
    "comment_suggestion = solution_engine.generate_rfp_feedback(sections )"
   ]
  },
  {
   "cell_type": "code",
   "execution_count": null,
   "metadata": {},
   "outputs": [],
   "source": [
    "print(comment_suggestion)\n"
   ]
  },
  {
   "cell_type": "code",
   "execution_count": null,
   "metadata": {},
   "outputs": [],
   "source": [
    "print(\"DESCRIPTION OF APPROACH, METHODOLOGY, AND WORK PLAN IN RESPONDING TO THE TERMS OF REFERENCE\")\n",
    "\n",
    "special_agent = SpecialAgent()\n",
    "trend_business = special_agent.trend_business_cases(summary_requirements) \n",
    "print(\"Trends & business case\")\n",
    "print(trend_business)"
   ]
  },
  {
   "cell_type": "code",
   "execution_count": null,
   "metadata": {},
   "outputs": [],
   "source": [
    "\n",
    "approach_methodology = app_method(project_requirements)\n",
    "proposed_work_plan  = work_plan(approach_methodology, project_requirements, scope)\n"
   ]
  },
  {
   "cell_type": "code",
   "execution_count": null,
   "metadata": {},
   "outputs": [],
   "source": [
    "print(\"Section (a) Approach and Methodology\")\n",
    "display(Markdown(approach_methodology))\n"
   ]
  },
  {
   "cell_type": "code",
   "execution_count": null,
   "metadata": {},
   "outputs": [],
   "source": [
    "visuals = VisulaizeRFP()\n",
    "print(visuals.visualize())"
   ]
  },
  {
   "cell_type": "code",
   "execution_count": null,
   "metadata": {},
   "outputs": [],
   "source": [
    "\n",
    "print(\"Section (b) Work Plan and Implementation\")\n",
    "print(visuals.work_plan_table(proposed_work_plan))\n"
   ]
  },
  {
   "cell_type": "code",
   "execution_count": null,
   "metadata": {},
   "outputs": [],
   "source": [
    "print(\"Section (b) Work Plan and Implementation Keys and Values\")\n",
    "print(proposed_work_plan)"
   ]
  },
  {
   "cell_type": "code",
   "execution_count": null,
   "metadata": {},
   "outputs": [],
   "source": [
    "print(\"Curriculum Vitae\")\n",
    "print('---------------------------------------------------------------------------------------------------------')\n",
    "cv_text = paraphrase_text()\n",
    "cv = create_cv_section('NewWave', cv_text)\n",
    "\n"
   ]
  },
  {
   "cell_type": "code",
   "execution_count": null,
   "metadata": {},
   "outputs": [],
   "source": [
    "print(\"Terms and Condition\")\n",
    "terms_and_conditions = solution_engine.extraction_qa(terms_and_conditions_prompt, qa)\n",
    "proposal_securing_declaration = solution_engine.psdf_spoa(terms_and_conditions)\n"
   ]
  },
  {
   "cell_type": "code",
   "execution_count": null,
   "metadata": {},
   "outputs": [],
   "source": [
    "print(\"## special power attorney'\")\n",
    "display(Markdown(proposal_securing_declaration['special_power_attorney']))\n"
   ]
  },
  {
   "cell_type": "code",
   "execution_count": null,
   "metadata": {},
   "outputs": [],
   "source": [
    "print(\"### proposal_securing_declaration\")\n",
    "display(Markdown(proposal_securing_declaration['proposal_securing_declaration']))"
   ]
  },
  {
   "cell_type": "code",
   "execution_count": null,
   "metadata": {},
   "outputs": [],
   "source": [
    "print(\"Comprehensive Code of Conduct\")\n",
    "coc = solution_engine.extraction_qa(code_of_conduct_query, qa)\n",
    "coc_response = create_coc(coc)\n",
    "display(Markdown(coc_response))"
   ]
  },
  {
   "cell_type": "code",
   "execution_count": null,
   "metadata": {},
   "outputs": [],
   "source": [
    "terms_anti_bribery_coc = solution_engine.extraction_qa(anti_bribery_coc_prompt, qa)\n"
   ]
  },
  {
   "cell_type": "code",
   "execution_count": null,
   "metadata": {},
   "outputs": [],
   "source": [
    "anti_bribery_undertaking = create_anti_bribery_undertaking(intro['company_profile'], terms_anti_bribery_coc)\n"
   ]
  },
  {
   "cell_type": "code",
   "execution_count": null,
   "metadata": {},
   "outputs": [],
   "source": [
    "print(\"Anti-Bribery Policy/Code of Conduct: \")\n",
    "display(Markdown(anti_bribery_undertaking))\n"
   ]
  },
  {
   "cell_type": "code",
   "execution_count": null,
   "metadata": {},
   "outputs": [],
   "source": [
    "data = \"\"\"\n",
    "\n",
    "```json\n",
    "{\n",
    "  \"Assignment Name\": \"\",\n",
    "  \"Location (Country)\": \"\",\n",
    "  \"Assignment Location (City/Region)\": \"\",\n",
    "  \"Duration of Assignment (Months)\": \"\",\n",
    "  \"Name of Client\": \"\",\n",
    "  \"Professional Staff provided by your Organisation\": {\n",
    "    \"No of Staff\": \"\",\n",
    "    \"No of Person-Months\": \"\"\n",
    "  },\n",
    "  \"Start Date (Month/Year)\": \"\",\n",
    "  \"Completion Date (Month/Year)\": \"\",\n",
    "  \"Sub-contractors (if applicable)\": \"\",\n",
    "  \"Sub-contractor's Staff (Person-Months)\": \"\",\n",
    "  \"Senior Staff and Their Roles\": \"\",\n",
    "  \"No of Person-Months of Professional Staff provided by associated\": \"\",\n",
    "  \"Name of Senior Staff (Project Director/Coordinator, Team Leader) Involved and Functions Performed\": \"\",\n",
    "  \"Detailed Narrative Description of Similar project\": \"\",\n",
    "  \"Detailed Description of Actual Services Provided by your Staff\": {\n",
    "    \"Development support\": \"\",\n",
    "    \"On-Boarding & Analytics\": \"\",\n",
    "    \"Infrastructure Support, System Administration and Application Monitoring\": \"\",\n",
    "    \"Program Management\": \"\",\n",
    "    \"Development and Testing\": \"\",\n",
    "    \"Innovation\": \"\",\n",
    "    \"Transition from Incumbent Contractor\": \"\"\n",
    "  },\n",
    "  \"Your Firm’s Name\": \"\"\n",
    "}\n",
    "```\n",
    "\"\"\""
   ]
  },
  {
   "cell_type": "code",
   "execution_count": null,
   "metadata": {},
   "outputs": [],
   "source": [
    "import ast\n",
    "json_str = data.strip().split(\"```json\")[1].split(\"```\")[0].strip()  \n",
    "data = ast.literal_eval(json_str)"
   ]
  },
  {
   "cell_type": "code",
   "execution_count": null,
   "metadata": {},
   "outputs": [],
   "source": [
    "data.keys()"
   ]
  },
  {
   "cell_type": "code",
   "execution_count": null,
   "metadata": {},
   "outputs": [],
   "source": [
    "\n",
    "import sys\n",
    "sys.path.append(\"..\")\n",
    "import os\n",
    "import streamlit as st\n",
    "from IPython.display import display, Markdown\n",
    "from agent_tools.api_credentials import embeddings_model, hugging_embeddings\n",
    "from data_retrieval.database_loader import ChatBotManager\n",
    "from loaders.reader import parse_docs\n",
    "from introduction.background_intro import load_vendor_contractors_info\n",
    "from introduction.intro_summary import ProposalIntoduction\n",
    "from introduction.extract_info import CompanyProfile\n",
    "from introduction.get_company_info import get_links\n",
    "from approach_methodology.technical import app_method#, proposed_work_plan\n",
    "from cv.cv_section import create_cv_section\n",
    "from code_of_conduct.conduct import create_coc\n",
    "from anti_bribery_policy.abp_coc import create_anti_bribery_undertaking\n",
    "from agent_tools.special_agents import SpecialAgent\n",
    "from toc.table_of_content import content\n",
    "from prompt.prompts import (\n",
    "                            code_of_conduct_query,\n",
    "                            terms_and_conditions_prompt,\n",
    "                            anti_bribery_coc_prompt,\n",
    "                            )\n",
    "from prompt.prompts import (requirements_qa, scope_qa, evaluation_criteria_qa, expected_rfp_response_qa,\n",
    "                            budget_and_financials_qa, legal_and_contractual_qa,submission_guidelines_qa,\n",
    "                            project_timeline_qa, vendor_responsibilities_qa, communication_and_reporting_qa,\n",
    "                            objective_qa, deliverable_qa, qualification_qa,technical_requirement_qa,\n",
    "                            project_duration_and_key_stages_qa, company_profile_qa, company_details_qa,\n",
    "                            collaboration_and_preferences_qa,update_frequency_qa)\n",
    "\n",
    "from utils.util import SolutionEngine, VisulaizeRFP, paraphrase_text, company_parser\n",
    "from agent_tools.special_agents import SpecialAgent\n",
    "from project_management.management import ProjectManager\n",
    "\n",
    "os.environ[\"LANGCHAIN_TRACING\"] = \"true\""
   ]
  },
  {
   "cell_type": "code",
   "execution_count": null,
   "metadata": {},
   "outputs": [],
   "source": [
    "path = r\"C:\\Users\\Glodaris\\Downloads\\RFP-Information-Retrival\\rfp\\RFP Doc\\RFP DATA CENTER.doc-1.pdf\"\n",
    "information_list  = [requirements_qa, scope_qa, evaluation_criteria_qa, expected_rfp_response_qa,\n",
    "                    budget_and_financials_qa, legal_and_contractual_qa,submission_guidelines_qa,\n",
    "                    project_timeline_qa, vendor_responsibilities_qa, communication_and_reporting_qa,\n",
    "                    objective_qa, deliverable_qa, qualification_qa, technical_requirement_qa, \n",
    "                    project_duration_and_key_stages_qa, collaboration_and_preferences_qa,update_frequency_qa ]\n",
    "document = parse_docs(path)"
   ]
  },
  {
   "cell_type": "code",
   "execution_count": null,
   "metadata": {},
   "outputs": [],
   "source": [
    "len(document)"
   ]
  },
  {
   "cell_type": "code",
   "execution_count": null,
   "metadata": {},
   "outputs": [],
   "source": [
    "chatbot = ChatBotManager()"
   ]
  },
  {
   "cell_type": "code",
   "execution_count": null,
   "metadata": {},
   "outputs": [],
   "source": [
    "company_path = [\"Custom-IT-Solutioning-and-Management-for-the-Future-of-Healthcare_2pgs_v2.pdf\"]\n"
   ]
  },
  {
   "cell_type": "code",
   "execution_count": null,
   "metadata": {},
   "outputs": [],
   "source": [
    "print(\"Comprehensive Company Information Extraction\")\n",
    "company_docs = load_vendor_contractors_info(company_path)\n",
    "company_qa = chatbot.load_db(hugging_embeddings, company_docs)\n",
    "company_info = chatbot.parallel_process_inputs((company_profile_qa,company_details_qa), company_qa)\n",
    "company_profile, company_details = company_info.values()"
   ]
  },
  {
   "cell_type": "code",
   "execution_count": null,
   "metadata": {},
   "outputs": [],
   "source": [
    "company_docs"
   ]
  },
  {
   "cell_type": "code",
   "execution_count": null,
   "metadata": {},
   "outputs": [],
   "source": [
    "print(company_profile)\n"
   ]
  },
  {
   "cell_type": "code",
   "execution_count": null,
   "metadata": {},
   "outputs": [],
   "source": [
    "import streamlit as st\n",
    "import ast"
   ]
  },
  {
   "cell_type": "code",
   "execution_count": 17,
   "metadata": {},
   "outputs": [],
   "source": [
    "dictionary = {'Organization Experience': {'Operational Duration': '18 years', 'Expertise Domains': ['Results Focused IT Development and Project Management', 'Service/Product Achievement', 'Data Engineering, Management, and Analytics', 'Help Desk / Support Services', 'Cybersecurity', 'Systems Integration', 'Systems Modernization and Cloud Migration', 'Custom IT Solutioning and Management for the Future of Healthcare'], 'Analogous Ventures': [{'Client Identity': 'CCW program', 'Assignment Venue': 'Managing one of the largest healthcare data warehouses in the world', 'Tenure of Assignment (in months)': 12, 'Professionals Deployed by our Firm': {'Count': 10, 'Duration (Person-Months)': 120}, 'Initiation Date of Assignment (Month/Year)': 'January 2018', 'Termination Date (Month/Year)': 'December 2018', 'Key Personnel': {'Project Overseer/Coordinator': 'John Smith', 'Chief Expert': 'Jane Doe'}, 'Synopsis of Services': 'Our firm successfully managed one of the largest healthcare data warehouses in the world for the CCW program. We ensured the integrity and security of the data, implemented efficient data management practices, and provided timely and accurate reporting.'}, {'Client Identity': 'CMS', 'Assignment Venue': 'Optimizing Salesforce License costs', 'Tenure of Assignment (in months)': 6, 'Professionals Deployed by our Firm': {'Count': 5, 'Duration (Person-Months)': 30}, 'Initiation Date of Assignment (Month/Year)': 'July 2019', 'Termination Date (Month/Year)': 'December 2019', 'Key Personnel': {'Project Overseer/Coordinator': 'John Smith', 'Chief Expert': 'Jane Doe'}, 'Synopsis of Services': 'Our firm successfully optimized Salesforce License costs for CMS, resulting in significant cost savings without compromising functionality or user experience.'}, {'Client Identity': 'CCW program', 'Assignment Venue': 'Migrating data to a secure AWS Cloud environment', 'Tenure of Assignment (in months)': 8, 'Professionals Deployed by our Firm': {'Count': 15, 'Duration (Person-Months)': 120}, 'Initiation Date of Assignment (Month/Year)': 'March 2020', 'Termination Date (Month/Year)': 'October 2020', 'Key Personnel': {'Project Overseer/Coordinator': 'John Smith', 'Chief Expert': 'Jane Doe'}, 'Synopsis of Services': 'Our firm successfully migrated over 5 petabytes of data to a secure AWS Cloud environment for the CCW program, ensuring data accessibility, scalability, and security.'}, {'Client Identity': 'RADV program', 'Assignment Venue': 'Modernizing and migrating RADV CDAT Tool to the Cloud', 'Tenure of Assignment (in months)': 10, 'Professionals Deployed by our Firm': {'Count': 8, 'Duration (Person-Months)': 80}, 'Initiation Date of Assignment (Month/Year)': 'May 2021', 'Termination Date (Month/Year)': 'February 2022', 'Key Personnel': {'Project Overseer/Coordinator': 'John Smith', 'Chief Expert': 'Jane Doe'}, 'Synopsis of Services': 'Our firm successfully modernized and migrated the RADV CDAT Tool to the Cloud for the RADV program, improving efficiency, scalability, and accessibility of the tool.'}], 'Persuasive Assertion': \"With 18 years of operational experience and expertise in various domains including IT development, project management, data engineering, and cybersecurity, our firm is well-equipped to conduct the feasibility study for the proposed modern enterprise Data Center. Our successful track record in managing large healthcare data warehouses, optimizing costs, and migrating data to secure cloud environments demonstrates our ability to address the objectives and challenges of this project. We have a dedicated team of professionals with extensive experience and a proven track record of delivering high-quality services. Our firm's antecedents make us the ideal contender for this project.\"}}"
   ]
  },
  {
   "cell_type": "code",
   "execution_count": 18,
   "metadata": {},
   "outputs": [
    {
     "name": "stdout",
     "output_type": "stream",
     "text": [
      "                                                Organization Experience\n",
      "Operational Duration                                           18 years\n",
      "Expertise Domains     [Results Focused IT Development and Project Ma...\n",
      "Analogous Ventures    [{'Client Identity': 'CCW program', 'Assignmen...\n",
      "Persuasive Assertion  With 18 years of operational experience and ex...\n"
     ]
    }
   ],
   "source": [
    "import pandas as pd\n",
    "\n",
    "# Create a DataFrame from the dictionary\n",
    "df = pd.DataFrame.from_dict(dictionary, orient='index')\n",
    "\n",
    "# Transpose the DataFrame for better readability\n",
    "df = df.transpose()\n",
    "\n",
    "# Display the DataFrame\n",
    "print(df)\n"
   ]
  },
  {
   "cell_type": "code",
   "execution_count": 20,
   "metadata": {},
   "outputs": [
    {
     "data": {
      "text/html": [
       "<div>\n",
       "<style scoped>\n",
       "    .dataframe tbody tr th:only-of-type {\n",
       "        vertical-align: middle;\n",
       "    }\n",
       "\n",
       "    .dataframe tbody tr th {\n",
       "        vertical-align: top;\n",
       "    }\n",
       "\n",
       "    .dataframe thead th {\n",
       "        text-align: right;\n",
       "    }\n",
       "</style>\n",
       "<table border=\"1\" class=\"dataframe\">\n",
       "  <thead>\n",
       "    <tr style=\"text-align: right;\">\n",
       "      <th></th>\n",
       "      <th>Operational Duration</th>\n",
       "      <th>Expertise Domains</th>\n",
       "      <th>Analogous Ventures</th>\n",
       "      <th>Persuasive Assertion</th>\n",
       "    </tr>\n",
       "  </thead>\n",
       "  <tbody>\n",
       "    <tr>\n",
       "      <th>Organization Experience</th>\n",
       "      <td>18 years</td>\n",
       "      <td>[Results Focused IT Development and Project Ma...</td>\n",
       "      <td>[{'Client Identity': 'CCW program', 'Assignmen...</td>\n",
       "      <td>With 18 years of operational experience and ex...</td>\n",
       "    </tr>\n",
       "  </tbody>\n",
       "</table>\n",
       "</div>"
      ],
      "text/plain": [
       "                        Operational Duration  \\\n",
       "Organization Experience             18 years   \n",
       "\n",
       "                                                         Expertise Domains  \\\n",
       "Organization Experience  [Results Focused IT Development and Project Ma...   \n",
       "\n",
       "                                                        Analogous Ventures  \\\n",
       "Organization Experience  [{'Client Identity': 'CCW program', 'Assignmen...   \n",
       "\n",
       "                                                      Persuasive Assertion  \n",
       "Organization Experience  With 18 years of operational experience and ex...  "
      ]
     },
     "execution_count": 20,
     "metadata": {},
     "output_type": "execute_result"
    }
   ],
   "source": [
    "st.markdown(\"## Company Overview\")"
   ]
  },
  {
   "cell_type": "code",
   "execution_count": null,
   "metadata": {},
   "outputs": [],
   "source": []
  }
 ],
 "metadata": {
  "kernelspec": {
   "display_name": "langchain_env",
   "language": "python",
   "name": "python3"
  },
  "language_info": {
   "codemirror_mode": {
    "name": "ipython",
    "version": 3
   },
   "file_extension": ".py",
   "mimetype": "text/x-python",
   "name": "python",
   "nbconvert_exporter": "python",
   "pygments_lexer": "ipython3",
   "version": "3.10.12"
  },
  "orig_nbformat": 4
 },
 "nbformat": 4,
 "nbformat_minor": 2
}
